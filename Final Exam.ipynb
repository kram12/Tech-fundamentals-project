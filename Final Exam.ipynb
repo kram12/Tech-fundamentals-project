{
  "nbformat": 4,
  "nbformat_minor": 0,
  "metadata": {
    "colab": {
      "name": "Copy of final_2019_student.ipynb",
      "version": "0.3.2",
      "provenance": [],
      "collapsed_sections": [],
      "include_colab_link": true
    },
    "language_info": {
      "codemirror_mode": {
        "name": "ipython",
        "version": 3
      },
      "file_extension": ".py",
      "mimetype": "text/x-python",
      "name": "python",
      "nbconvert_exporter": "python",
      "pygments_lexer": "ipython3",
      "version": "3.6.3"
    },
    "kernelspec": {
      "display_name": "Python 3",
      "language": "python",
      "name": "python3"
    }
  },
  "cells": [
    {
      "cell_type": "markdown",
      "metadata": {
        "id": "view-in-github",
        "colab_type": "text"
      },
      "source": [
        "<a href=\"https://colab.research.google.com/github/kram12/Tech-fundamentals-project/blob/master/Final%20Exam.ipynb\" target=\"_parent\"><img src=\"https://colab.research.google.com/assets/colab-badge.svg\" alt=\"Open In Colab\"/></a>"
      ]
    },
    {
      "cell_type": "markdown",
      "metadata": {
        "colab_type": "text",
        "id": "88E1SinoXESX"
      },
      "source": [
        "# Tech Fundamentals Final\n",
        "Kissondial Ram\n",
        "\n",
        "\"I pledge under the RPI honor code that I have completed this work on my own.\" \n",
        "\n",
        "At any time a monitor may ask you to scroll up to the top of this document to view this. \n"
      ]
    },
    {
      "cell_type": "code",
      "metadata": {
        "colab_type": "code",
        "id": "bazbfl30iE3t",
        "colab": {}
      },
      "source": [
        "#This just gets the data and preps the environment. \n",
        "data=\"https://www.dropbox.com/s/7kbq1hi31a7tnzt/data.zip\""
      ],
      "execution_count": 0,
      "outputs": []
    },
    {
      "cell_type": "code",
      "metadata": {
        "colab_type": "code",
        "id": "K6tm8adzbq58",
        "outputId": "05e7d283-db59-4bae-9785-56c7c7585b54",
        "colab": {
          "base_uri": "https://localhost:8080/",
          "height": 446
        }
      },
      "source": [
        "!wget $data"
      ],
      "execution_count": 92,
      "outputs": [
        {
          "output_type": "stream",
          "text": [
            "--2019-05-02 18:59:41--  https://www.dropbox.com/s/7kbq1hi31a7tnzt/data.zip\n",
            "Resolving www.dropbox.com (www.dropbox.com)... 162.125.8.1, 2620:100:601f:1::a27d:901\n",
            "Connecting to www.dropbox.com (www.dropbox.com)|162.125.8.1|:443... connected.\n",
            "HTTP request sent, awaiting response... 301 Moved Permanently\n",
            "Location: /s/raw/7kbq1hi31a7tnzt/data.zip [following]\n",
            "--2019-05-02 18:59:42--  https://www.dropbox.com/s/raw/7kbq1hi31a7tnzt/data.zip\n",
            "Reusing existing connection to www.dropbox.com:443.\n",
            "HTTP request sent, awaiting response... 302 Found\n",
            "Location: https://uc57aadc50d3d9f21947519d282e.dl.dropboxusercontent.com/cd/0/inline/AgL1AVeC-qPhhQ646Scp0-niTNEejPmD46yPonzsJhttB8qq8nguoFIOu03FqG8hvqkHKYyEdcjwazJn4guox2HGw-zwZJzdnrNrzJvPtaB81g/file# [following]\n",
            "--2019-05-02 18:59:42--  https://uc57aadc50d3d9f21947519d282e.dl.dropboxusercontent.com/cd/0/inline/AgL1AVeC-qPhhQ646Scp0-niTNEejPmD46yPonzsJhttB8qq8nguoFIOu03FqG8hvqkHKYyEdcjwazJn4guox2HGw-zwZJzdnrNrzJvPtaB81g/file\n",
            "Resolving uc57aadc50d3d9f21947519d282e.dl.dropboxusercontent.com (uc57aadc50d3d9f21947519d282e.dl.dropboxusercontent.com)... 162.125.8.6, 2620:100:601b:6::a27d:806\n",
            "Connecting to uc57aadc50d3d9f21947519d282e.dl.dropboxusercontent.com (uc57aadc50d3d9f21947519d282e.dl.dropboxusercontent.com)|162.125.8.6|:443... connected.\n",
            "HTTP request sent, awaiting response... 302 FOUND\n",
            "Location: /cd/0/inline2/AgLZLVij-VqCJ8bOzWbU8tLaj9h792rwDvAH6Raj3w5KEj6bV0l451hAJpo6MCsCkcGY78oamA-jdgqQf74dGOvtflnlpAm4SSbc2Rl14ALzLs6Z4CeXpqThjBGx7-mB47nFHUDV6wH8_Kx2f_GOB3R4ONaWp_JRNqisu-OmFNbKEnYXoczLcqfAZgNBNlSkSffLENLcIGeQr9Hdo0K8aswYKoIGQzcu866D_J0_rhOKJtbZ1o7RAe0bYqZyfBZOruvGebyGEWxOVGikecdCAYQ1YqFX_RamA0tP1s4ZxZSfG4SdsVjAzYS94zBltq6lBMYAPd-pqKj4-oA-MTIP_Z_S/file [following]\n",
            "--2019-05-02 18:59:42--  https://uc57aadc50d3d9f21947519d282e.dl.dropboxusercontent.com/cd/0/inline2/AgLZLVij-VqCJ8bOzWbU8tLaj9h792rwDvAH6Raj3w5KEj6bV0l451hAJpo6MCsCkcGY78oamA-jdgqQf74dGOvtflnlpAm4SSbc2Rl14ALzLs6Z4CeXpqThjBGx7-mB47nFHUDV6wH8_Kx2f_GOB3R4ONaWp_JRNqisu-OmFNbKEnYXoczLcqfAZgNBNlSkSffLENLcIGeQr9Hdo0K8aswYKoIGQzcu866D_J0_rhOKJtbZ1o7RAe0bYqZyfBZOruvGebyGEWxOVGikecdCAYQ1YqFX_RamA0tP1s4ZxZSfG4SdsVjAzYS94zBltq6lBMYAPd-pqKj4-oA-MTIP_Z_S/file\n",
            "Reusing existing connection to uc57aadc50d3d9f21947519d282e.dl.dropboxusercontent.com:443.\n",
            "HTTP request sent, awaiting response... 200 OK\n",
            "Length: 33651029 (32M) [application/zip]\n",
            "Saving to: ‘data.zip.3’\n",
            "\n",
            "data.zip.3          100%[===================>]  32.09M  50.1MB/s    in 0.6s    \n",
            "\n",
            "2019-05-02 18:59:44 (50.1 MB/s) - ‘data.zip.3’ saved [33651029/33651029]\n",
            "\n"
          ],
          "name": "stdout"
        }
      ]
    },
    {
      "cell_type": "code",
      "metadata": {
        "colab_type": "code",
        "id": "NabIBvxWoICP",
        "outputId": "f1440e59-10ff-4a72-fc3d-d024676c55e4",
        "colab": {
          "base_uri": "https://localhost:8080/",
          "height": 477
        }
      },
      "source": [
        "!unzip -o data.zip"
      ],
      "execution_count": 93,
      "outputs": [
        {
          "output_type": "stream",
          "text": [
            "Archive:  data.zip\n",
            "  inflating: data/ma/medications.csv  \n",
            "  inflating: data/ma/providers.csv   \n",
            "  inflating: data/ma/imaging_studies.csv  \n",
            "  inflating: data/ma/allergies.csv   \n",
            "  inflating: data/ma/procedures.csv  \n",
            "  inflating: data/ma/organizations.csv  \n",
            "  inflating: data/ma/conditions.csv  \n",
            "  inflating: data/ma/careplans.csv   \n",
            "  inflating: data/ma/encounters.csv  \n",
            "  inflating: __MACOSX/data/ma/._encounters.csv  \n",
            "  inflating: data/ma/immunizations.csv  \n",
            "  inflating: data/ma/patients.csv    \n",
            "  inflating: data/ma/observations.csv  \n",
            "  inflating: data/ny/medications.csv  \n",
            "  inflating: data/ny/providers.csv   \n",
            "  inflating: data/ny/imaging_studies.csv  \n",
            "  inflating: data/ny/allergies.csv   \n",
            "  inflating: data/ny/procedures.csv  \n",
            "  inflating: data/ny/organizations.csv  \n",
            "  inflating: data/ny/conditions.csv  \n",
            "  inflating: data/ny/careplans.csv   \n",
            "  inflating: data/ny/encounters.csv  \n",
            "  inflating: __MACOSX/data/ny/._encounters.csv  \n",
            "  inflating: data/ny/immunizations.csv  \n",
            "  inflating: data/ny/patients.csv    \n",
            "  inflating: data/ny/observations.csv  \n"
          ],
          "name": "stdout"
        }
      ]
    },
    {
      "cell_type": "markdown",
      "metadata": {
        "colab_type": "text",
        "id": "880XuoKaXJke"
      },
      "source": [
        "This is healthcare data generated from a syntetic data generator.  We want to see how good it is. "
      ]
    },
    {
      "cell_type": "code",
      "metadata": {
        "colab_type": "code",
        "id": "jcsebVilY9Ue",
        "outputId": "b3035b3d-4a8e-4b0f-8694-2608b72a0bac",
        "colab": {
          "base_uri": "https://localhost:8080/",
          "height": 68
        }
      },
      "source": [
        "#Let's list the files\n",
        "!ls ./data/ma\n"
      ],
      "execution_count": 94,
      "outputs": [
        {
          "output_type": "stream",
          "text": [
            "allergies.csv\tencounters.csv\t     medications.csv\tpatients.csv\n",
            "careplans.csv\timaging_studies.csv  observations.csv\tprocedures.csv\n",
            "conditions.csv\timmunizations.csv    organizations.csv\tproviders.csv\n"
          ],
          "name": "stdout"
        }
      ]
    },
    {
      "cell_type": "code",
      "metadata": {
        "colab_type": "code",
        "id": "0vVUHm0Vi72N",
        "colab": {}
      },
      "source": [
        "#Let's look at one of the dataframes\n",
        "import numpy as np\n",
        "import pandas as pd\n",
        "careplans_ma= pd.read_csv('./data/ma/careplans.csv')\n",
        "careplans_ny= pd.read_csv('./data/ny/careplans.csv')\n",
        "\n",
        "careplans_ma\n"
      ],
      "execution_count": 0,
      "outputs": []
    },
    {
      "cell_type": "markdown",
      "metadata": {
        "colab_type": "text",
        "id": "-G1gjRxRXESa"
      },
      "source": [
        "# Exploratory Data Analysis \n",
        "\n",
        "The data directory includes a wide variety of data related to health care.  \n",
        "    \n",
        "(1. 5 points) Find the mean of the `COST` varaiable in the `encounters.csv` data for both NY and MA, assigning the values to `cost_ny` and `cost_ma`.   \n",
        "\n",
        "\n",
        "\n"
      ]
    },
    {
      "cell_type": "code",
      "metadata": {
        "colab_type": "code",
        "id": "z6GWZeGvXESc",
        "outputId": "dd0a02de-ede8-4365-f645-74954f2d3ba2",
        "colab": {
          "base_uri": "https://localhost:8080/",
          "height": 51
        }
      },
      "source": [
        "# Answer 1\n",
        "#mean of cost column in encountrs database\n",
        "encounters_ma =  pd.read_csv('./data/ma/encounters.csv')\n",
        "encounters_ny =  pd.read_csv('./data/ny/encounters.csv')\n",
        "\n",
        "#careplans_ma = pd.DataFrame(careplans_ma)\n",
        "#careplans_ny = pd.DataFrame(careplans_ny)\n",
        "\n",
        "#ny= pd.concat([careplans_ny,encounters], axis=1)\n",
        "#ma=pd.concat([careplans_ma,encounters], axis=1)\n",
        "\n",
        "#print(ny.head())\n",
        "\n",
        "cost_ma = encounters_ma['COST'].mean()\n",
        "# Fix this to calculate the mean of the cost. (5 points)\n",
        "cost_ny=encounters_ny['COST'].mean()\n",
        "\n",
        "#Fix this to calculate the mean of the cost. (5 points)\n",
        "print( cost_ma, cost_ny)\n",
        "print (\"___\", \"    If you are seeing a face, probably aren't there yet. \")\n",
        "\n",
        "###I would figure out the number of people in NY and then fine the mean\n"
      ],
      "execution_count": 96,
      "outputs": [
        {
          "output_type": "stream",
          "text": [
            "17.906257207081175 15.188246329742485\n",
            "___     If you are seeing a face, probably aren't there yet. \n"
          ],
          "name": "stdout"
        }
      ]
    },
    {
      "cell_type": "markdown",
      "metadata": {
        "colab_type": "text",
        "id": "1aMi_E27oICs"
      },
      "source": [
        "# Cost Regression Analysis\n",
        "\n",
        "### Dummy Creation and Splint to Train and Test for NY ONLY \n",
        "\n",
        "The goal of the code below is to predict the `COST` from `CODE` and `ENCOUNTERCLASS`.  \n",
        "\n",
        "\n",
        "(2. 5 points) First create dummies from `CODE` and `ENCOUNTERCLASS`.  Don't use any other variables.  split your data into an 70% train and 30% validation using a `random_state` of 111. For validation, set: \n",
        "\n",
        "```\n",
        "splittest1 = X_train.iloc[5,2]\n",
        "\n",
        "splittest2 = X_test.iloc[7,4]\n",
        "```\n",
        "\n",
        "\n"
      ]
    },
    {
      "cell_type": "code",
      "metadata": {
        "colab_type": "code",
        "id": "q6EnzsJyoICu",
        "colab": {
          "base_uri": "https://localhost:8080/",
          "height": 34
        },
        "outputId": "64f2d3ff-db0d-46f5-d28e-a5f106d92cce"
      },
      "source": [
        "from sklearn.model_selection import train_test_split\n",
        "from sklearn.linear_model import LinearRegression\n",
        "\n",
        "#Create Dummies. Also set  dummy_na = True\n",
        "\n",
        "encounters =  pd.read_csv('./data/ny/encounters.csv')\n",
        "encounters = pd.DataFrame(encounters)\n",
        "#print(encounters)\n",
        "\n",
        "X= encounters[['CODE','ENCOUNTERCLASS']]\n",
        "X=pd.get_dummies(X)\n",
        "X\n",
        "y= encounters['COST']\n",
        "\n",
        "X_train, X_test, train_y, test_y = train_test_split(X, y, \n",
        "                                                    train_size=0.7,\n",
        "                                                    test_size=0.3,\n",
        "                                                    random_state=111)\n",
        "\n",
        "\n",
        "#y ='COST'\n",
        "#X_train, X_test, y_train, y_test is the naming you should use\n",
        "#verify split\n",
        "\n",
        "\n",
        "\n",
        "#keep this code used for testing. \n",
        "splittest1 = X_train.shape\n",
        "splittest2 = X_test.iloc[7,4]\n",
        "print(splittest1, splittest2)\n"
      ],
      "execution_count": 97,
      "outputs": [
        {
          "output_type": "stream",
          "text": [
            "(72930, 7) 0\n"
          ],
          "name": "stdout"
        }
      ]
    },
    {
      "cell_type": "markdown",
      "metadata": {
        "colab_type": "text",
        "id": "nV6TiFTmoICx"
      },
      "source": [
        "### Predict Cost via Linear Regression \n",
        "\n",
        "(3. 5 points) Using linear regression analysis, use the `CODE` and `ENCOUNTERCLASS` as independent variables to predict `COST`. This is your naive model. Report R-Squared for both training `r2_train_cost` and validation `r2_test_cost`. \n",
        "\n",
        "\n"
      ]
    },
    {
      "cell_type": "code",
      "metadata": {
        "colab_type": "code",
        "id": "WKKqv5ZpoICy",
        "outputId": "d8fbfb0e-9b79-4c21-9a4e-aa59a4c910c5",
        "colab": {
          "base_uri": "https://localhost:8080/",
          "height": 51
        }
      },
      "source": [
        "#3 Answer\n",
        "from sklearn.linear_model import LinearRegression\n",
        "\n",
        "lm = LinearRegression()\n",
        "lm.fit( X_train,train_y)\n",
        "\n",
        "\n",
        "r2_train_cost = lm.score( X_train,train_y) # Make equal to the R2. \n",
        "r2_test_cost = lm.score(X_test, test_y) # Make equal to the R2. \n",
        "\n",
        "#Keep this\n",
        "print('R2 for Train:', r2_train_cost)\n",
        "print('R2 for Test (cross validation)：', r2_test_cost )"
      ],
      "execution_count": 98,
      "outputs": [
        {
          "output_type": "stream",
          "text": [
            "R2 for Train: 0.11028392049159896\n",
            "R2 for Test (cross validation)： 0.11137451845067325\n"
          ],
          "name": "stdout"
        }
      ]
    },
    {
      "cell_type": "markdown",
      "metadata": {
        "colab_type": "text",
        "id": "jAucAlQIoIC2"
      },
      "source": [
        "# Create Graph of Encounter class vs Cost\n",
        "\n",
        "(4. 5 points) Create a graph of encounter class vs cost. It should look like the graph below (created via seaborn). \n"
      ]
    },
    {
      "cell_type": "code",
      "metadata": {
        "colab_type": "code",
        "id": "M5b0u7uyoIC3",
        "colab": {}
      },
      "source": [
        "%matplotlib inline"
      ],
      "execution_count": 0,
      "outputs": []
    },
    {
      "cell_type": "code",
      "metadata": {
        "colab_type": "code",
        "id": "Vg4u1tjoXETL",
        "colab": {
          "base_uri": "https://localhost:8080/",
          "height": 282
        },
        "outputId": "93c1fbab-a742-4511-9497-544671a482d5"
      },
      "source": [
        "#4 Answer\n",
        "import seaborn as sns\n",
        "ax = sns.barplot(x=\"COST\", y=\"ENCOUNTERCLASS\", data=encounters)\n"
      ],
      "execution_count": 100,
      "outputs": [
        {
          "output_type": "display_data",
          "data": {
            "image/png": "[encoded data removed]",
            "text/plain": [
              "<Figure size 432x288 with 1 Axes>"
            ]
          },
          "metadata": {
            "tags": []
          }
        }
      ]
    },
    {
      "cell_type": "markdown",
      "metadata": {
        "colab_type": "text",
        "id": "vyOd-KhooIC-"
      },
      "source": [
        "When you are done your graph should look like this.  \n",
        "\n",
        "ENCOUNTERCLASS is on they axis and  and COST on X axis.\n",
        "\n",
        "![Imgur](https://i.imgur.com/asCDZSM.png)\n"
      ]
    },
    {
      "cell_type": "markdown",
      "metadata": {
        "colab_type": "text",
        "id": "aQ06eTNFXEXk"
      },
      "source": [
        "# High Cost Patients Classification \n",
        "\n",
        "A second Challenge is determinine the most expensive individuals.  This is set as all those groups that are more than 1 standard deviation above the mean, indicated as 'HIGHCOST' in the dataset.  \n",
        "\n",
        "(5. 5 points) \n",
        "Overall, count the total number of individuals who are high cost in NY (i.e., where encounters_ny['HIGHCOST'] is equal to 1.) Assign to the value `total_high_cost_ny`. \n",
        "\n",
        "Overall, count the total number of individuals who are high cost in MA (i.e., where encounters_ny['HIGHCOST'] is equal to 1.) Assign to the value `total_high_cost_ma`. \n",
        "\n",
        "\n"
      ]
    },
    {
      "cell_type": "code",
      "metadata": {
        "colab_type": "code",
        "id": "bPGRyrs4oIDA",
        "colab": {
          "base_uri": "https://localhost:8080/",
          "height": 392
        },
        "outputId": "8998cf1d-4908-4481-c1bb-539d8c9cd081"
      },
      "source": [
        "#5 Answer \n",
        "\n",
        "total_high_cost_ny= encounters_ny[encounters_ny['HIGHCOST']==1].sum() #set to the sum\n",
        "total_high_cost_ma= encounters_ma[encounters_ma['HIGHCOST']==1].sum()  #set to the sum\n",
        "\n",
        "print(total_high_cost_ny, total_high_cost_ma)\n",
        "\n",
        "##find out those that live in ny and then count the total number of individuals with the high cost and sum all the ones"
      ],
      "execution_count": 101,
      "outputs": [
        {
          "output_type": "stream",
          "text": [
            "Id                cd739368-5635-410f-a044-83a8ab86364a0bc9ed7b-b...\n",
            "START             2003-04-25T09:12:58Z2010-07-05T09:12:58Z2011-0...\n",
            "STOP              2003-04-25T10:12:58Z2010-07-05T11:06:58Z2011-0...\n",
            "PATIENT           566aa97b-6591-4876-bae4-081b90cb1778725509e1-6...\n",
            "ENCOUNTERCLASS    emergencyemergencywellnessambulatoryoutpatient...\n",
            "CODE                                                  5654268231240\n",
            "DESCRIPTION       Emergency Room AdmissionEmergency room admissi...\n",
            "COST                                                         577020\n",
            "REASONCODE                                              1.36974e+14\n",
            "HIGHCOST                                                      21558\n",
            "dtype: object Id                f7bdd127-5ce4-4cec-b4a4-c3f2583556b0ef42a115-7...\n",
            "START             2005-09-10T04:49:37Z2009-07-12T04:49:37Z2013-0...\n",
            "STOP              2005-09-10T05:04:37Z2009-07-12T05:04:37Z2013-0...\n",
            "PATIENT           4b01e963-3afa-4f9b-b3b9-357ba5cdaab04b01e963-3...\n",
            "PROVIDER          d733d4a9-080d-3593-b910-2366e652b7ead733d4a9-0...\n",
            "ENCOUNTERCLASS    ambulatoryambulatoryambulatoryambulatoryambula...\n",
            "CODE                                                  5971240679079\n",
            "DESCRIPTION       Encounter for symptomEncounter for symptomEnco...\n",
            "COST                                                         642654\n",
            "REASONCODE                                              6.10476e+15\n",
            "HIGHCOST                                                      22505\n",
            "dtype: object\n"
          ],
          "name": "stdout"
        }
      ]
    },
    {
      "cell_type": "markdown",
      "metadata": {
        "colab_type": "text",
        "id": "a5mGGSz4oIDE"
      },
      "source": [
        "### Split the Train and test set for Classification with you DV set to HIGHCOST for NY Only. \n",
        "\n",
        "\n",
        "(6. 5 points) First split your data into an 70% train and 30% validation. Make sure that the results are *stratified* (equal classes in train and test) with `random_state = 111`.  \n",
        "\n",
        "Also set the following:\n",
        "\n",
        "```\n",
        "splittest3 = y_train.iloc[5]\n",
        "splittest4 = y_test.iloc[3]\n",
        "```\n"
      ]
    },
    {
      "cell_type": "code",
      "metadata": {
        "colab_type": "code",
        "id": "RK4j7B0JoIDE",
        "outputId": "305a35b7-fbb3-4cab-84c9-365272598e57",
        "colab": {
          "base_uri": "https://localhost:8080/",
          "height": 34
        }
      },
      "source": [
        "#6 Answer \n",
        "#Set y equal to train encounters_ny['HIGHCOST'] \n",
        "y = encounters_ny['HIGHCOST']\n",
        "#X_train, X_test, y_train, y_test  is the naming you should use\n",
        "X= encounters_ny[['CODE','ENCOUNTERCLASS']]\n",
        "\n",
        "X_train, X_test, y_train, y_test = train_test_split(X, y, \n",
        "                                                    train_size=0.7,\n",
        "                                                    test_size=0.3,\n",
        "                                                    random_state=111)\n",
        "\n",
        "#This will be used for testing. Keep it. \n",
        "splittest3 = y_train.iloc[3]\n",
        "splittest4 = y_test.iloc[17]\n",
        "print (splittest3, splittest4)"
      ],
      "execution_count": 102,
      "outputs": [
        {
          "output_type": "stream",
          "text": [
            "0 0\n"
          ],
          "name": "stdout"
        }
      ]
    },
    {
      "cell_type": "markdown",
      "metadata": {
        "colab_type": "text",
        "id": "2SZb1zDLoIDK"
      },
      "source": [
        "### Classification with Random Forrest\n",
        "(8. 5 points) Use a RandomForestClassifier to predict the 'HIGH_COST' with use the `CODE` and `ENCOUNTERCLASS` as independent variables.  \n",
        "\n",
        "Also set the following:\n",
        "\n",
        "```\n",
        "train_accuracy\n",
        "test_accuracy\n",
        "```"
      ]
    },
    {
      "cell_type": "code",
      "metadata": {
        "colab_type": "code",
        "id": "SIXHnQQsoIDL",
        "colab": {}
      },
      "source": [
        "from sklearn.ensemble import RandomForestClassifier\n",
        "\n",
        "clf = RandomForestClassifier()\n",
        "clf.fit(X_train, y_train)\n",
        "\n",
        "train_accuracy = clf.predict(X_train)\n",
        "test_accuracy = clf.predict(X_test) #set to the accuracy\n",
        "#Keep this.\n",
        "print(\"Classifier Accuracy for Train: \", train_accuracy )\n",
        "print(\"Classifier Accuracy for Test: \", test_accuracy )"
      ],
      "execution_count": 0,
      "outputs": []
    },
    {
      "cell_type": "markdown",
      "metadata": {
        "colab_type": "text",
        "id": "zcSiCldTXEX2"
      },
      "source": [
        "### Submission\n",
        "For the final submission, please submit a link to this notebook to the LMS as a `.ipynb` file.  The TA must be able to run your notebook.  \n",
        "\n",
        "### Please make sure that your notebook above this point runs without errors.  "
      ]
    }
  ]
}